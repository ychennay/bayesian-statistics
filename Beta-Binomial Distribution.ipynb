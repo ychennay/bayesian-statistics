{
 "cells": [
  {
   "cell_type": "markdown",
   "metadata": {},
   "source": [
    "The **beta-binomial** can be written as\n",
    "\n",
    "$$\n",
    "y_i \\sim Bin(\\theta_i, n_i)\n",
    "$$\n",
    "$$\n",
    "\\theta_i \\sim Beta(\\alpha, \\beta)\n",
    "$$"
   ]
  },
  {
   "cell_type": "markdown",
   "metadata": {},
   "source": [
    "The **posterior distribution** is approximately equivalent to\n",
    "\n",
    "$$\n",
    "p(\\theta, \\alpha, \\beta|y) \\propto p(\\alpha, \\beta) \\times p(\\theta | \\alpha, \\beta) \\times p( y| \\theta, \\alpha, \\beta)\n",
    "$$\n",
    "\n",
    "The **beta distribution** has the form\n",
    "\n",
    "$$\n",
    "p(\\theta) = \\frac{\\Gamma(\\alpha + \\beta}{\\Gamma(\\alpha)\\times \\Gamma(\\beta)}\\theta^{\\alpha -1}(1 - \\theta)^{\\beta - 1}\n",
    "$$\n",
    "\n",
    "The second half of the joint posterior distribution, $ p(y|\\theta, \\alpha, \\beta)$, is a binomial distribution. We can ignore the **binomial coefficient** here since we are only approximating the posterior distribution, and it is a constant value.\n",
    "\n",
    "In general, for a hierarchical Bayesian model with observed values $y$, distribution parameters $\\theta$, and hyperparameters $\\phi$, the posterior distribution of $\\phi$ is\n",
    "\n",
    "$$\n",
    "p(\\phi | y) = \\int p(\\theta, \\phi|y) d\\theta\n",
    "$$\n",
    "\n",
    "This is equivalent to \n",
    "\n",
    "$$\n",
    "p(\\phi | y) = \\frac{p(\\theta, \\phi | y)}{p(\\theta| \\phi, y)}\n",
    "$$\n",
    "\n",
    "We can compute the log-likelihood of N total observed experiments, each with $n$ trials and $y$ successes, and parameters $\\alpha$ and $\\beta$:\n",
    "\n",
    "$$\n",
    "p(\\alpha, \\beta|y) \\propto p(\\alpha, \\beta) \\prod_{i}^{N}\n",
    "\\frac{\\Gamma(\\alpha + \\beta)}{\\Gamma(\\alpha) \\times \\Gamma(\\beta)}\n",
    "\\frac{\\Gamma(\\alpha + y_i)\\Gamma(\\beta + n_i - y_i)}{\\Gamma(\\alpha + \\beta + n_j)}\n",
    "$$\n",
    "\n",
    "This can be converted into a log-likelihood so that we sum the individual experiment likelihoods, instead of multiplying:\n",
    "\n",
    "$$\n",
    "p(\\alpha, \\beta|y) \\propto p(\\alpha, \\beta) \\times \\sum_{i}^{N}{log\\Gamma(\\alpha + \\beta) - log\\Gamma(\\alpha) - log\\Gamma(\\beta) + log\\Gamma(\\alpha + y_i) + log\\Gamma(\\beta + n_i - y_i) - log\\Gamma(\\alpha + \\beta + n_i)}\n",
    "$$"
   ]
  },
  {
   "cell_type": "code",
   "execution_count": 5,
   "metadata": {},
   "outputs": [],
   "source": [
    "from typing import List\n",
    "from scipy.special import gammaln\n",
    "def log_likelihood(α: float, β: float, y:List[int], n: List[int])-> float:\n",
    "    LL = 0\n",
    "    \n",
    "    for Y, N in zip(y, n):\n",
    "        LL += (gammaln(α + β) - gammaln(α) - gammaln(β) + gammaln(α + Y) + \n",
    "               gammaln(β + N - Y) - gammaln(α + β + N))\n",
    "    return LL"
   ]
  },
  {
   "cell_type": "code",
   "execution_count": 7,
   "metadata": {},
   "outputs": [
    {
     "data": {
      "text/plain": [
       "-60.50223931733497"
      ]
     },
     "execution_count": 7,
     "metadata": {},
     "output_type": "execute_result"
    }
   ],
   "source": [
    "y = [1,5,10]\n",
    "n = [10, 51, 120]\n",
    "α = 1\n",
    "β = 1\n",
    "# we intuitively expect that θ should be somewhere around ~ 0.10, so our\n",
    "# likelihood should be relatively low\n",
    "log_likelihood(α, β, y, n)"
   ]
  },
  {
   "cell_type": "code",
   "execution_count": 11,
   "metadata": {},
   "outputs": [
    {
     "data": {
      "text/plain": [
       "-56.630409005824795"
      ]
     },
     "execution_count": 11,
     "metadata": {},
     "output_type": "execute_result"
    }
   ],
   "source": [
    "α = 2\n",
    "β = 10\n",
    "# should be a much better model\n",
    "log_likelihood(α, β, y, n)"
   ]
  },
  {
   "cell_type": "code",
   "execution_count": 21,
   "metadata": {},
   "outputs": [],
   "source": [
    "import numpy as np\n",
    "X, Z = np.meshgrid(np.arange(1,20), np.arange(1,20))\n",
    "param_space = np.c_[X.ravel(), Z.ravel()]"
   ]
  },
  {
   "cell_type": "code",
   "execution_count": 53,
   "metadata": {},
   "outputs": [
    {
     "name": "stdout",
     "output_type": "stream",
     "text": [
      "{'α': 2, 'β': 19, 'LL': -55.8538173450731}\n"
     ]
    }
   ],
   "source": [
    "surface = np.zeros(X.shape)\n",
    "best_parameters = {\n",
    "    \"α\": 1,\n",
    "    \"β\": 1,\n",
    "    \"LL\": -9e12\n",
    "}\n",
    "for parameters in param_space:\n",
    "    α = parameters[0]\n",
    "    β = parameters[1]\n",
    "    LL = log_likelihood(α, β, y, n)\n",
    "    if LL > best_parameters[\"LL\"]:\n",
    "        best_parameters[\"α\"] = α\n",
    "        best_parameters[\"β\"] = β\n",
    "        best_parameters[\"LL\"] = LL\n",
    "    surface[α - 1, β - 1] = LL\n",
    "\n",
    "print(best_parameters)"
   ]
  },
  {
   "cell_type": "code",
   "execution_count": 50,
   "metadata": {},
   "outputs": [
    {
     "data": {
      "image/png": "[encoded data removed]",
      "text/plain": [
       "<matplotlib.figure.Figure at 0x11b813128>"
      ]
     },
     "metadata": {},
     "output_type": "display_data"
    }
   ],
   "source": [
    "import matplotlib.pyplot as plt\n",
    "fig, ax = plt.subplots(figsize = (5,5))\n",
    "CS = ax.contourf(X,Z, surface,cmap=plt.cm.bone)\n",
    "cbar = plt.colorbar(CS)\n",
    "cbar.ax.set_ylabel('Log Likelihood')\n",
    "# Add the contour line levels to the colorbar\n",
    "plt.xlabel(\"β\")\n",
    "plt.ylabel(\"α\")\n",
    "plt.show()"
   ]
  },
  {
   "cell_type": "code",
   "execution_count": null,
   "metadata": {},
   "outputs": [],
   "source": []
  }
 ],
 "metadata": {
  "kernelspec": {
   "display_name": "Python 3",
   "language": "python",
   "name": "python3"
  },
  "language_info": {
   "codemirror_mode": {
    "name": "ipython",
    "version": 3
   },
   "file_extension": ".py",
   "mimetype": "text/x-python",
   "name": "python",
   "nbconvert_exporter": "python",
   "pygments_lexer": "ipython3",
   "version": "3.6.3"
  }
 },
 "nbformat": 4,
 "nbformat_minor": 2
}
